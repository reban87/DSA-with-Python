{
  "nbformat": 4,
  "nbformat_minor": 0,
  "metadata": {
    "colab": {
      "provenance": []
    },
    "kernelspec": {
      "name": "python3",
      "display_name": "Python 3"
    },
    "language_info": {
      "name": "python"
    }
  },
  "cells": [
    {
      "cell_type": "markdown",
      "source": [
        "**QUESTION 1**: Alice has some cards with numbers written on them. She arranges the cards in decreasing order, and lays them out face down in a sequence on a table. She challenges Bob to pick out the card containing a given number by turning over as few cards as possible. Write a function to help Bob locate the card.\n",
        "![image.png](data:image/png;base64,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)"
      ],
      "metadata": {
        "id": "1WnUJcVcQBCm"
      }
    },
    {
      "cell_type": "markdown",
      "source": [
        "Here's a systematic strategy we'll apply for solving problems:\n",
        "\n",
        "\n",
        "\n",
        "1.   State the problem clearly. Identify the input & output formats.\n",
        "2.   Come up with some example inputs & outputs. Try to cover all edge cases.\n",
        "3.   Come up with a correct solution for the problem. State it in plain English.\n",
        "4.   Implement the solution and test it using example inputs. Fix bugs, if any.\n",
        "5.   Analyze the algorithm's complexity and identify inefficiencies, if any.\n",
        "6.   Apply the right technique to overcome the inefficiency. Repeat steps 3 to 6\n",
        "\n",
        "\n",
        "\n",
        "\n",
        "\n",
        "\n",
        "\n",
        "\n",
        "\n",
        "\n"
      ],
      "metadata": {
        "id": "4iKg6WYgQbco"
      }
    },
    {
      "cell_type": "markdown",
      "source": [
        "We need to write a program to find the position of a given number in a list of numbers arranged in decreasing order. We also need to minimize the number of times we access elements from the list."
      ],
      "metadata": {
        "id": "q33HL8f2RNvB"
      }
    },
    {
      "cell_type": "markdown",
      "source": [
        "**Input**\n",
        "1. cards: A list of numbers sorted in decreasing order. E.g. [13, 11, 10, 7, 4, 3, 1, 0]\n",
        "2. query: A number, whose position in the array is to be determined. E.g. 7\n",
        "**Output**\n",
        "position: The position of query in the list cards. E.g. 3 in the above case (counting from 0)"
      ],
      "metadata": {
        "id": "ZH_u82p5RUJv"
      }
    },
    {
      "cell_type": "code",
      "execution_count": 3,
      "metadata": {
        "id": "oiN8EKEpBnPQ"
      },
      "outputs": [],
      "source": [
        "# TEMPLATES TO FOLLOW\n",
        "# 1. CREATE A SIGNATURE OF THE FUNCTION\n",
        "def locate_cards(cards, query):\n",
        "  pass"
      ]
    },
    {
      "cell_type": "code",
      "source": [
        "# 2. SOME EXAMPLES INPUTS AND OUTPUTS\n",
        "cards = [13, 11, 10, 7, 4, 3, 1, 0]\n",
        "query = 7\n",
        "output = 3"
      ],
      "metadata": {
        "id": "p2UWrKzsP77F"
      },
      "execution_count": 4,
      "outputs": []
    },
    {
      "cell_type": "code",
      "source": [
        "# 3. TEST OUR FUNCTION BY PASSING THE INPUTS INTO FUNCTION AND COMPARING THE RESULT WITH EXPECTED OUTPUT\n",
        "result = locate_cards(cards, query)\n",
        "print(result)"
      ],
      "metadata": {
        "colab": {
          "base_uri": "https://localhost:8080/"
        },
        "id": "gBnFTVEnSYRi",
        "outputId": "57e35faf-c00a-4d51-c374-ef4bf5104566"
      },
      "execution_count": 5,
      "outputs": [
        {
          "output_type": "stream",
          "name": "stdout",
          "text": [
            "None\n"
          ]
        }
      ]
    },
    {
      "cell_type": "code",
      "source": [
        "# 4. COMPARING EXPECTED OUTPUT VS RESULT \n",
        "result == output"
      ],
      "metadata": {
        "colab": {
          "base_uri": "https://localhost:8080/"
        },
        "id": "Lg-Rt4q-SqFo",
        "outputId": "fec2e959-83fa-4366-ce0d-5daa39fde576"
      },
      "execution_count": 7,
      "outputs": [
        {
          "output_type": "execute_result",
          "data": {
            "text/plain": [
              "False"
            ]
          },
          "metadata": {},
          "execution_count": 7
        }
      ]
    },
    {
      "cell_type": "code",
      "source": [
        "# 5.REPRESENTING TEST CASES USING A DICTIONERY\n",
        "test = {\n",
        "    'input': {\n",
        "        'cards' : [13, 11, 10, 7, 4, 3, 1, 0],\n",
        "        'query' : 7\n",
        "    },\n",
        "    'output' : 3\n",
        "}"
      ],
      "metadata": {
        "id": "1O_T-bJnSs9P"
      },
      "execution_count": 69,
      "outputs": []
    },
    {
      "cell_type": "code",
      "source": [
        "# 6.THE FUNCTION CAN BE TESTED AS FOLLOWS\n",
        "# locate_cards(test['input']['cards'], test['input']['query']) == test['output'] \n",
        "locate_cards(**test['input']) == test['output']             # ** will take keys of dictionaries and pass values as an arguments"
      ],
      "metadata": {
        "colab": {
          "base_uri": "https://localhost:8080/"
        },
        "id": "Rbc64fMdXGdw",
        "outputId": "01717d84-058c-4b13-ce57-1e02fdd83cd9"
      },
      "execution_count": 70,
      "outputs": [
        {
          "output_type": "execute_result",
          "data": {
            "text/plain": [
              "True"
            ]
          },
          "metadata": {},
          "execution_count": 70
        }
      ]
    },
    {
      "cell_type": "code",
      "source": [
        "# 7. CREATING TEST CASES AND STORE IT IN A LIST\n",
        "tests = []\n"
      ],
      "metadata": {
        "id": "EOSbnlxpXhNw"
      },
      "execution_count": 71,
      "outputs": []
    },
    {
      "cell_type": "code",
      "source": [
        "# QUERY OCCURS IN THE MIDDLE\n",
        "tests.append(test)\n",
        "tests.append({\n",
        "    'input': {\n",
        "        'cards' : [13, 11, 10, 7, 4, 3, 1, 0],\n",
        "        'query' : 1\n",
        "    },\n",
        "    'output' : 6\n",
        "})"
      ],
      "metadata": {
        "id": "Agi3nQk7a8Os"
      },
      "execution_count": 72,
      "outputs": []
    },
    {
      "cell_type": "code",
      "source": [
        "# QUERY IS THE FIRST ELEMENT\n",
        "tests.append({\n",
        "    'input' : {\n",
        "        'cards' : [4, 2, 1, -1],\n",
        "        'query' : 4\n",
        "    },\n",
        "    'output' : 0\n",
        "})"
      ],
      "metadata": {
        "id": "2WtCtfdJfFam"
      },
      "execution_count": 73,
      "outputs": []
    },
    {
      "cell_type": "code",
      "source": [
        "# IF THE CARDS DOESN'T CONTAIN ANY QUERY RETURN -1 \n",
        "tests.append({\n",
        "    'input': {\n",
        "        'cards': [9, 7, 5, 2, -9],\n",
        "        'query': 4\n",
        "    },\n",
        "    'output': -1\n",
        "})"
      ],
      "metadata": {
        "id": "7GAnQuTwfhrY"
      },
      "execution_count": 74,
      "outputs": []
    },
    {
      "cell_type": "code",
      "source": [
        "# IF THE CARDS IS EMPTY, RETURN -1\n",
        "tests.append({\n",
        "    'input' : {\n",
        "        'cards' : [],\n",
        "        'query' : 7\n",
        "    },\n",
        "    'output' : -1\n",
        "})"
      ],
      "metadata": {
        "id": "lMCEH5pTfiyn"
      },
      "execution_count": 75,
      "outputs": []
    },
    {
      "cell_type": "code",
      "source": [
        "# NUMBERS CAN BE REPEAT\n",
        "tests.append({\n",
        "    'input': {\n",
        "        'cards': [8, 8, 6, 6, 6, 6, 6, 3, 2, 2, 2, 0, 0, 0],\n",
        "        'query': 3\n",
        "    },\n",
        "    'output': 7\n",
        "})"
      ],
      "metadata": {
        "id": "JVACarXWgALE"
      },
      "execution_count": 76,
      "outputs": []
    },
    {
      "cell_type": "code",
      "source": [
        "# QUERY OCCURS MULTIPLE TIMES\n",
        "tests.append({\n",
        "    'input': {\n",
        "        'cards': [8, 8, 6, 6, 6, 6, 6, 6, 3, 2, 2, 2, 0, 0, 0],\n",
        "        'query': 6\n",
        "    },\n",
        "    'output': 2\n",
        "})"
      ],
      "metadata": {
        "id": "XceH9HKmgGtj"
      },
      "execution_count": 77,
      "outputs": []
    },
    {
      "cell_type": "code",
      "source": [
        "# LETS SEE THE TESTS\n",
        "tests"
      ],
      "metadata": {
        "colab": {
          "base_uri": "https://localhost:8080/"
        },
        "id": "JUvegLyjgL9N",
        "outputId": "cfb1a335-90ed-4276-cde3-de1416e7ca90"
      },
      "execution_count": 78,
      "outputs": [
        {
          "output_type": "execute_result",
          "data": {
            "text/plain": [
              "[{'input': {'cards': [13, 11, 10, 7, 4, 3, 1, 0], 'query': 7}, 'output': 3},\n",
              " {'input': {'cards': [13, 11, 10, 7, 4, 3, 1, 0], 'query': 1}, 'output': 6},\n",
              " {'input': {'cards': [4, 2, 1, -1], 'query': 4}, 'output': 0},\n",
              " {'input': {'cards': [9, 7, 5, 2, -9], 'query': 4}, 'output': -1},\n",
              " {'input': {'cards': [], 'query': 7}, 'output': -1},\n",
              " {'input': {'cards': [8, 8, 6, 6, 6, 6, 6, 3, 2, 2, 2, 0, 0, 0], 'query': 3},\n",
              "  'output': 7},\n",
              " {'input': {'cards': [8, 8, 6, 6, 6, 6, 6, 6, 3, 2, 2, 2, 0, 0, 0],\n",
              "   'query': 6},\n",
              "  'output': 2}]"
            ]
          },
          "metadata": {},
          "execution_count": 78
        }
      ]
    },
    {
      "cell_type": "code",
      "source": [
        "# IMPLEMENT THE FUNCTION\n",
        "def locate_cards(cards, query):\n",
        "  # create a variable position with the value 0\n",
        "  position = 0\n",
        "\n",
        "  # set up a loop for repeatition\n",
        "  while True:\n",
        "    # Check if element are the current position match the query\n",
        "    if cards[position] == query:\n",
        "\n",
        "      # Answer found! return and exit\n",
        "      return position\n",
        "    # increment the position\n",
        "    position += 1\n",
        "\n",
        "    # Check if end of the array\n",
        "    if position == len(cards):\n",
        "      # number not found\n",
        "      return -1"
      ],
      "metadata": {
        "id": "jxN8ZJ77gQGu"
      },
      "execution_count": 79,
      "outputs": []
    },
    {
      "cell_type": "code",
      "source": [
        "test"
      ],
      "metadata": {
        "colab": {
          "base_uri": "https://localhost:8080/"
        },
        "id": "5_-EIyknhHlc",
        "outputId": "9c81ba48-f82e-4055-b3c1-5090fa40905d"
      },
      "execution_count": 80,
      "outputs": [
        {
          "output_type": "execute_result",
          "data": {
            "text/plain": [
              "{'input': {'cards': [13, 11, 10, 7, 4, 3, 1, 0], 'query': 7}, 'output': 3}"
            ]
          },
          "metadata": {},
          "execution_count": 80
        }
      ]
    },
    {
      "cell_type": "code",
      "source": [
        "# test the first case we had created\n",
        "result = locate_cards(**test['input'])"
      ],
      "metadata": {
        "id": "Kic66iFYhMyL"
      },
      "execution_count": 81,
      "outputs": []
    },
    {
      "cell_type": "code",
      "source": [
        "result == output"
      ],
      "metadata": {
        "colab": {
          "base_uri": "https://localhost:8080/"
        },
        "id": "x0fjC0nxhmVt",
        "outputId": "1cca2938-749d-44cb-8f93-c5f25cb963b1"
      },
      "execution_count": 82,
      "outputs": [
        {
          "output_type": "execute_result",
          "data": {
            "text/plain": [
              "True"
            ]
          },
          "metadata": {},
          "execution_count": 82
        }
      ]
    },
    {
      "cell_type": "code",
      "source": [
        "# LET US CHECK ALL THE TEST CASES FOR THE ABOVE FUNCTION\n",
        "# !pip install jovian --upgrade --quiet"
      ],
      "metadata": {
        "id": "inV1t8hQiCO-"
      },
      "execution_count": 55,
      "outputs": []
    },
    {
      "cell_type": "code",
      "source": [
        "from jovian.pythondsa import evaluate_test_cases"
      ],
      "metadata": {
        "id": "OZbUIrnXi7BC"
      },
      "execution_count": 85,
      "outputs": []
    },
    {
      "cell_type": "code",
      "source": [
        "evaluate_test_cases(locate_cards,tests)"
      ],
      "metadata": {
        "colab": {
          "base_uri": "https://localhost:8080/",
          "height": 1000
        },
        "id": "KziSErepj82C",
        "outputId": "4588ad57-78e0-4e0e-91f3-24961399eded"
      },
      "execution_count": 86,
      "outputs": [
        {
          "output_type": "stream",
          "name": "stdout",
          "text": [
            "\n",
            "\u001b[1mTEST CASE #0\u001b[0m\n",
            "\n",
            "Input:\n",
            "{'cards': [13, 11, 10, 7, 4, 3, 1, 0], 'query': 7}\n",
            "\n",
            "Expected Output:\n",
            "3\n",
            "\n",
            "\n",
            "Actual Output:\n",
            "3\n",
            "\n",
            "Execution Time:\n",
            "0.007 ms\n",
            "\n",
            "Test Result:\n",
            "\u001b[92mPASSED\u001b[0m\n",
            "\n",
            "\n",
            "\u001b[1mTEST CASE #1\u001b[0m\n",
            "\n",
            "Input:\n",
            "{'cards': [13, 11, 10, 7, 4, 3, 1, 0], 'query': 1}\n",
            "\n",
            "Expected Output:\n",
            "6\n",
            "\n",
            "\n",
            "Actual Output:\n",
            "6\n",
            "\n",
            "Execution Time:\n",
            "0.006 ms\n",
            "\n",
            "Test Result:\n",
            "\u001b[92mPASSED\u001b[0m\n",
            "\n",
            "\n",
            "\u001b[1mTEST CASE #2\u001b[0m\n",
            "\n",
            "Input:\n",
            "{'cards': [4, 2, 1, -1], 'query': 4}\n",
            "\n",
            "Expected Output:\n",
            "0\n",
            "\n",
            "\n",
            "Actual Output:\n",
            "0\n",
            "\n",
            "Execution Time:\n",
            "0.002 ms\n",
            "\n",
            "Test Result:\n",
            "\u001b[92mPASSED\u001b[0m\n",
            "\n",
            "\n",
            "\u001b[1mTEST CASE #3\u001b[0m\n",
            "\n",
            "Input:\n",
            "{'cards': [9, 7, 5, 2, -9], 'query': 4}\n",
            "\n",
            "Expected Output:\n",
            "-1\n",
            "\n",
            "\n",
            "Actual Output:\n",
            "-1\n",
            "\n",
            "Execution Time:\n",
            "0.004 ms\n",
            "\n",
            "Test Result:\n",
            "\u001b[92mPASSED\u001b[0m\n",
            "\n",
            "\n",
            "\u001b[1mTEST CASE #4\u001b[0m\n"
          ]
        },
        {
          "output_type": "error",
          "ename": "IndexError",
          "evalue": "ignored",
          "traceback": [
            "\u001b[0;31m---------------------------------------------------------------------------\u001b[0m",
            "\u001b[0;31mIndexError\u001b[0m                                Traceback (most recent call last)",
            "\u001b[0;32m<ipython-input-86-c09d5b87f1be>\u001b[0m in \u001b[0;36m<module>\u001b[0;34m\u001b[0m\n\u001b[0;32m----> 1\u001b[0;31m \u001b[0mevaluate_test_cases\u001b[0m\u001b[0;34m(\u001b[0m\u001b[0mlocate_cards\u001b[0m\u001b[0;34m,\u001b[0m\u001b[0mtests\u001b[0m\u001b[0;34m)\u001b[0m\u001b[0;34m\u001b[0m\u001b[0;34m\u001b[0m\u001b[0m\n\u001b[0m",
            "\u001b[0;32m/usr/local/lib/python3.7/dist-packages/jovian/pythondsa/__init__.py\u001b[0m in \u001b[0;36mevaluate_test_cases\u001b[0;34m(function, test_cases, error_only, summary_only)\u001b[0m\n\u001b[1;32m     85\u001b[0m         \u001b[0;32mif\u001b[0m \u001b[0;32mnot\u001b[0m \u001b[0merror_only\u001b[0m\u001b[0;34m:\u001b[0m\u001b[0;34m\u001b[0m\u001b[0;34m\u001b[0m\u001b[0m\n\u001b[1;32m     86\u001b[0m             \u001b[0mprint\u001b[0m\u001b[0;34m(\u001b[0m\u001b[0;34m\"\\n\\033[1mTEST CASE #{}\\033[0m\"\u001b[0m\u001b[0;34m.\u001b[0m\u001b[0mformat\u001b[0m\u001b[0;34m(\u001b[0m\u001b[0mi\u001b[0m\u001b[0;34m)\u001b[0m\u001b[0;34m)\u001b[0m\u001b[0;34m\u001b[0m\u001b[0;34m\u001b[0m\u001b[0m\n\u001b[0;32m---> 87\u001b[0;31m         \u001b[0mresult\u001b[0m \u001b[0;34m=\u001b[0m \u001b[0mevaluate_test_case\u001b[0m\u001b[0;34m(\u001b[0m\u001b[0mfunction\u001b[0m\u001b[0;34m,\u001b[0m \u001b[0mtest_case\u001b[0m\u001b[0;34m,\u001b[0m \u001b[0mdisplay\u001b[0m\u001b[0;34m=\u001b[0m\u001b[0;32mFalse\u001b[0m\u001b[0;34m)\u001b[0m\u001b[0;34m\u001b[0m\u001b[0;34m\u001b[0m\u001b[0m\n\u001b[0m\u001b[1;32m     88\u001b[0m         \u001b[0mresults\u001b[0m\u001b[0;34m.\u001b[0m\u001b[0mappend\u001b[0m\u001b[0;34m(\u001b[0m\u001b[0mresult\u001b[0m\u001b[0;34m)\u001b[0m\u001b[0;34m\u001b[0m\u001b[0;34m\u001b[0m\u001b[0m\n\u001b[1;32m     89\u001b[0m         \u001b[0;32mif\u001b[0m \u001b[0merror_only\u001b[0m \u001b[0;32mand\u001b[0m \u001b[0;32mnot\u001b[0m \u001b[0mresult\u001b[0m\u001b[0;34m[\u001b[0m\u001b[0;36m1\u001b[0m\u001b[0;34m]\u001b[0m\u001b[0;34m:\u001b[0m\u001b[0;34m\u001b[0m\u001b[0;34m\u001b[0m\u001b[0m\n",
            "\u001b[0;32m/usr/local/lib/python3.7/dist-packages/jovian/pythondsa/__init__.py\u001b[0m in \u001b[0;36mevaluate_test_case\u001b[0;34m(function, test_case, display)\u001b[0m\n\u001b[1;32m     63\u001b[0m \u001b[0;34m\u001b[0m\u001b[0m\n\u001b[1;32m     64\u001b[0m     \u001b[0mstart\u001b[0m \u001b[0;34m=\u001b[0m \u001b[0mtimer\u001b[0m\u001b[0;34m(\u001b[0m\u001b[0;34m)\u001b[0m\u001b[0;34m\u001b[0m\u001b[0;34m\u001b[0m\u001b[0m\n\u001b[0;32m---> 65\u001b[0;31m     \u001b[0mactual_output\u001b[0m \u001b[0;34m=\u001b[0m \u001b[0mfunction\u001b[0m\u001b[0;34m(\u001b[0m\u001b[0;34m**\u001b[0m\u001b[0minputs\u001b[0m\u001b[0;34m)\u001b[0m\u001b[0;34m\u001b[0m\u001b[0;34m\u001b[0m\u001b[0m\n\u001b[0m\u001b[1;32m     66\u001b[0m     \u001b[0mend\u001b[0m \u001b[0;34m=\u001b[0m \u001b[0mtimer\u001b[0m\u001b[0;34m(\u001b[0m\u001b[0;34m)\u001b[0m\u001b[0;34m\u001b[0m\u001b[0;34m\u001b[0m\u001b[0m\n\u001b[1;32m     67\u001b[0m \u001b[0;34m\u001b[0m\u001b[0m\n",
            "\u001b[0;32m<ipython-input-79-1b01945aa3bb>\u001b[0m in \u001b[0;36mlocate_cards\u001b[0;34m(cards, query)\u001b[0m\n\u001b[1;32m      7\u001b[0m   \u001b[0;32mwhile\u001b[0m \u001b[0;32mTrue\u001b[0m\u001b[0;34m:\u001b[0m\u001b[0;34m\u001b[0m\u001b[0;34m\u001b[0m\u001b[0m\n\u001b[1;32m      8\u001b[0m     \u001b[0;31m# Check if element are the current position match the query\u001b[0m\u001b[0;34m\u001b[0m\u001b[0;34m\u001b[0m\u001b[0;34m\u001b[0m\u001b[0m\n\u001b[0;32m----> 9\u001b[0;31m     \u001b[0;32mif\u001b[0m \u001b[0mcards\u001b[0m\u001b[0;34m[\u001b[0m\u001b[0mposition\u001b[0m\u001b[0;34m]\u001b[0m \u001b[0;34m==\u001b[0m \u001b[0mquery\u001b[0m\u001b[0;34m:\u001b[0m\u001b[0;34m\u001b[0m\u001b[0;34m\u001b[0m\u001b[0m\n\u001b[0m\u001b[1;32m     10\u001b[0m \u001b[0;34m\u001b[0m\u001b[0m\n\u001b[1;32m     11\u001b[0m       \u001b[0;31m# Answer found! return and exit\u001b[0m\u001b[0;34m\u001b[0m\u001b[0;34m\u001b[0m\u001b[0;34m\u001b[0m\u001b[0m\n",
            "\u001b[0;31mIndexError\u001b[0m: list index out of range"
          ]
        }
      ]
    },
    {
      "cell_type": "code",
      "source": [
        "# SEEMS TEST 4 NOT WORKING\n",
        "# REFINING THE FUNCTION\n",
        "def locate_cards(cards, query):\n",
        "  position = 0\n",
        "  while position < len(cards):\n",
        "    if cards[position] == query:\n",
        "      return position\n",
        "    position += 1\n",
        "  return -1"
      ],
      "metadata": {
        "id": "oweP29txkFbY"
      },
      "execution_count": 87,
      "outputs": []
    },
    {
      "cell_type": "code",
      "source": [
        "evaluate_test_cases(locate_cards,tests)\n"
      ],
      "metadata": {
        "colab": {
          "base_uri": "https://localhost:8080/"
        },
        "id": "vTlXhAVRlnkK",
        "outputId": "66a3837c-1ebe-49d8-cf81-756184f2e93f"
      },
      "execution_count": 88,
      "outputs": [
        {
          "output_type": "stream",
          "name": "stdout",
          "text": [
            "\n",
            "\u001b[1mTEST CASE #0\u001b[0m\n",
            "\n",
            "Input:\n",
            "{'cards': [13, 11, 10, 7, 4, 3, 1, 0], 'query': 7}\n",
            "\n",
            "Expected Output:\n",
            "3\n",
            "\n",
            "\n",
            "Actual Output:\n",
            "3\n",
            "\n",
            "Execution Time:\n",
            "0.007 ms\n",
            "\n",
            "Test Result:\n",
            "\u001b[92mPASSED\u001b[0m\n",
            "\n",
            "\n",
            "\u001b[1mTEST CASE #1\u001b[0m\n",
            "\n",
            "Input:\n",
            "{'cards': [13, 11, 10, 7, 4, 3, 1, 0], 'query': 1}\n",
            "\n",
            "Expected Output:\n",
            "6\n",
            "\n",
            "\n",
            "Actual Output:\n",
            "6\n",
            "\n",
            "Execution Time:\n",
            "0.005 ms\n",
            "\n",
            "Test Result:\n",
            "\u001b[92mPASSED\u001b[0m\n",
            "\n",
            "\n",
            "\u001b[1mTEST CASE #2\u001b[0m\n",
            "\n",
            "Input:\n",
            "{'cards': [4, 2, 1, -1], 'query': 4}\n",
            "\n",
            "Expected Output:\n",
            "0\n",
            "\n",
            "\n",
            "Actual Output:\n",
            "0\n",
            "\n",
            "Execution Time:\n",
            "0.003 ms\n",
            "\n",
            "Test Result:\n",
            "\u001b[92mPASSED\u001b[0m\n",
            "\n",
            "\n",
            "\u001b[1mTEST CASE #3\u001b[0m\n",
            "\n",
            "Input:\n",
            "{'cards': [9, 7, 5, 2, -9], 'query': 4}\n",
            "\n",
            "Expected Output:\n",
            "-1\n",
            "\n",
            "\n",
            "Actual Output:\n",
            "-1\n",
            "\n",
            "Execution Time:\n",
            "0.005 ms\n",
            "\n",
            "Test Result:\n",
            "\u001b[92mPASSED\u001b[0m\n",
            "\n",
            "\n",
            "\u001b[1mTEST CASE #4\u001b[0m\n",
            "\n",
            "Input:\n",
            "{'cards': [], 'query': 7}\n",
            "\n",
            "Expected Output:\n",
            "-1\n",
            "\n",
            "\n",
            "Actual Output:\n",
            "-1\n",
            "\n",
            "Execution Time:\n",
            "0.002 ms\n",
            "\n",
            "Test Result:\n",
            "\u001b[92mPASSED\u001b[0m\n",
            "\n",
            "\n",
            "\u001b[1mTEST CASE #5\u001b[0m\n",
            "\n",
            "Input:\n",
            "{'cards': [8, 8, 6, 6, 6, 6, 6, 3, 2, 2, 2, 0, 0, 0], 'query': 3}\n",
            "\n",
            "Expected Output:\n",
            "7\n",
            "\n",
            "\n",
            "Actual Output:\n",
            "7\n",
            "\n",
            "Execution Time:\n",
            "0.005 ms\n",
            "\n",
            "Test Result:\n",
            "\u001b[92mPASSED\u001b[0m\n",
            "\n",
            "\n",
            "\u001b[1mTEST CASE #6\u001b[0m\n",
            "\n",
            "Input:\n",
            "{'cards': [8, 8, 6, 6, 6, 6, 6, 6, 3, 2, 2, 2, 0, 0, 0], 'query': 6}\n",
            "\n",
            "Expected Output:\n",
            "2\n",
            "\n",
            "\n",
            "Actual Output:\n",
            "2\n",
            "\n",
            "Execution Time:\n",
            "0.003 ms\n",
            "\n",
            "Test Result:\n",
            "\u001b[92mPASSED\u001b[0m\n",
            "\n",
            "\n",
            "\u001b[1mSUMMARY\u001b[0m\n",
            "\n",
            "TOTAL: 7, \u001b[92mPASSED\u001b[0m: 7, \u001b[91mFAILED\u001b[0m: 0\n"
          ]
        },
        {
          "output_type": "execute_result",
          "data": {
            "text/plain": [
              "[(3, True, 0.007),\n",
              " (6, True, 0.005),\n",
              " (0, True, 0.003),\n",
              " (-1, True, 0.005),\n",
              " (-1, True, 0.002),\n",
              " (7, True, 0.005),\n",
              " (2, True, 0.003)]"
            ]
          },
          "metadata": {},
          "execution_count": 88
        }
      ]
    },
    {
      "cell_type": "code",
      "source": [],
      "metadata": {
        "id": "8Qv347pxlqEK"
      },
      "execution_count": null,
      "outputs": []
    }
  ]
}